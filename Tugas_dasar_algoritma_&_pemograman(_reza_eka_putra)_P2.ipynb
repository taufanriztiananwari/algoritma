{
  "cells": [
    {
      "cell_type": "code",
      "execution_count": null,
      "metadata": {
        "colab": {
          "base_uri": "https://localhost:8080/"
        },
        "id": "iIU3p8hfsdSo",
        "outputId": "8381fadc-e6d7-432b-ea4d-dcdc878c290b"
      },
      "outputs": [
        {
          "name": "stdout",
          "output_type": "stream",
          "text": [
            "Masukkan nama: reza eka putra\n",
            "Masukkan umur: 22\n",
            "Halo reza eka putra\n",
            "Umur Anda: 22 tahun\n",
            "Tahun lahir Anda: 2003\n"
          ]
        }
      ],
      "source": [
        "# Input\n",
        "\n",
        "nama = input(\"Masukkan nama: \")\n",
        "\n",
        "umur = int(input(\"Masukkan umur: \"))\n",
        "\n",
        "# Output\n",
        "\n",
        "print(\"Halo\", nama)\n",
        "\n",
        "print(\"Umur Anda:\", umur, \"tahun\")\n",
        "\n",
        "print(f\"Tahun lahir Anda: {2025 - umur}\") # f-string"
      ]
    },
    {
      "cell_type": "code",
      "execution_count": null,
      "metadata": {
        "colab": {
          "base_uri": "https://localhost:8080/"
        },
        "id": "AWk49wcjsrMA",
        "outputId": "89d0eeca-0ad5-4e49-f8aa-bef8a2f297a6"
      },
      "outputs": [
        {
          "name": "stdout",
          "output_type": "stream",
          "text": [
            "Masukkan panjang: 10\n",
            "Masukkan lebar: 3\n",
            "Luas persegi panjang: 30.0\n",
            "Keliling persegi panjang: 26.0\n"
          ]
        }
      ],
      "source": [
        "# Input dari pengguna\n",
        "\n",
        "panjang = float(input(\"Masukkan panjang: \"))\n",
        "\n",
        "lebar = float(input(\"Masukkan lebar: \"))\n",
        "\n",
        "# Perhitungan\n",
        "\n",
        "luas = panjang * lebar\n",
        "\n",
        "keliling = 2 * (panjang + lebar)\n",
        "\n",
        "# Output hasil\n",
        "\n",
        "print(f\"Luas persegi panjang: {luas}\")\n",
        "\n",
        "print(f\"Keliling persegi panjang: {keliling}\")"
      ]
    },
    {
      "cell_type": "code",
      "execution_count": null,
      "metadata": {
        "colab": {
          "base_uri": "https://localhost:8080/"
        },
        "id": "oVFvHZYls1aE",
        "outputId": "3115f1e7-3caf-40df-8306-89b1c037b68a"
      },
      "outputs": [
        {
          "name": "stdout",
          "output_type": "stream",
          "text": [
            "jari2 lingkaran: 20\n",
            "luas lingkaran: 1256.0\n",
            "keliling lingkaran: 125.60000000000001\n"
          ]
        }
      ],
      "source": [
        "# input dari pengguna\n",
        "\n",
        "jari2 = float(input(\"jari2 lingkaran: \"))\n",
        "luas = 3.14 * jari2 * jari2\n",
        "keliling = 2 * 3.14 * jari2\n",
        "print(f\"luas lingkaran: {luas}\")\n",
        "print(f\"keliling lingkaran: {keliling}\")"
      ]
    },
    {
      "cell_type": "code",
      "execution_count": null,
      "metadata": {
        "colab": {
          "base_uri": "https://localhost:8080/"
        },
        "id": "WrAhOuFbtTx0",
        "outputId": "47346dac-72e7-4487-b2a5-dea40f183257"
      },
      "outputs": [
        {
          "name": "stdout",
          "output_type": "stream",
          "text": [
            "\n",
            "=== Hitung Luas dan Keliling Segitiga (Rumus Heron) ===\n",
            "Masukkan panjang sisi a: 10\n",
            "Masukkan panjang sisi b: 20\n",
            "Masukkan panjang sisi c: 25\n",
            "\n",
            "Keliling segitiga: 55.0\n",
            "Luas segitiga (rumus Heron): 94.99177595981665\n"
          ]
        }
      ],
      "source": [
        "import math\n",
        "\n",
        "def hitung_segitiga():\n",
        "    print(\"\\n=== Hitung Luas dan Keliling Segitiga (Rumus Heron) ===\")\n",
        "\n",
        "    # Input panjang sisi segitiga\n",
        "    a = float(input(\"Masukkan panjang sisi a: \"))\n",
        "    b = float(input(\"Masukkan panjang sisi b: \"))\n",
        "    c = float(input(\"Masukkan panjang sisi c: \"))\n",
        "\n",
        "    # Cek apakah sisi membentuk segitiga valid\n",
        "    if a + b > c and a + c > b and b + c > a:\n",
        "        keliling = a + b + c\n",
        "        s = keliling / 2  # setengah keliling\n",
        "        luas = math.sqrt(s * (s - a) * (s - b) * (s - c))\n",
        "\n",
        "        print(f\"\\nKeliling segitiga: {keliling}\")\n",
        "        print(f\"Luas segitiga (rumus Heron): {luas}\")\n",
        "    else:\n",
        "        print(\"Sisi-sisi tersebut tidak membentuk segitiga yang valid.\")\n",
        "\n",
        "if __name__ == \"__main__\":\n",
        "    hitung_segitiga()\n"
      ]
    },
    {
      "cell_type": "code",
      "execution_count": null,
      "metadata": {
        "colab": {
          "base_uri": "https://localhost:8080/"
        },
        "id": "8tJP2tH4tbxO",
        "outputId": "11ea7ef4-760b-494b-b84f-464ffd253e87"
      },
      "outputs": [
        {
          "name": "stdout",
          "output_type": "stream",
          "text": [
            "Sisi 1 : 10\n",
            "Sisi 2 : 20\n",
            "Sisi 3 : 25\n",
            "Tinggi : 100\n",
            "Luas =  1500.0\n",
            "Keliling = 155\n"
          ]
        }
      ],
      "source": [
        "sisi1 = int(input(\"Sisi 1 : \"))\n",
        "sisi2 = int(input(\"Sisi 2 : \"))\n",
        "sisi3 = int(input(\"Sisi 3 : \"))\n",
        "tinggi = int(input(\"Tinggi : \"))\n",
        "\n",
        "luas = (sisi1+sisi2) * tinggi / 2\n",
        "keliling = sisi1+sisi2+sisi3+tinggi\n",
        "\n",
        "print(\"Luas = \", luas)\n",
        "print(\"Keliling =\", keliling)"
      ]
    },
    {
      "cell_type": "code",
      "source": [
        "def kalkulator_operasi_dasar():\n",
        "    print(\"=== Kalkulator Operasi Dasar ===\")\n",
        "    try:\n",
        "        angka1 = float(input(\"Masukkan angka pertama: \"))\n",
        "        operator = input(\"Masukkan operator (+, -, *, /): \")\n",
        "        angka2 = float(input(\"Masukkan angka kedua: \"))\n",
        "\n",
        "        if operator == '+':\n",
        "            hasil = angka1 + angka2\n",
        "        elif operator == '-':\n",
        "            hasil = angka1 - angka2\n",
        "        elif operator == '*':\n",
        "            hasil = angka1 * angka2\n",
        "        elif operator == '/':\n",
        "            if angka2 == 0:\n",
        "                print(\"Kesalahan: Tidak bisa membagi dengan nol.\")\n",
        "                return\n",
        "            hasil = angka1 / angka2\n",
        "        else:\n",
        "            print(\"Operator tidak dikenali. Gunakan +, -, *, atau /.\")\n",
        "            return\n",
        "\n",
        "        print(f\"Hasil: {hasil}\")\n",
        "\n",
        "    except ValueError:\n",
        "        print(\"Input tidak valid. Harap masukkan angka yang benar.\")\n",
        "\n",
        "# Jalankan fungsi\n",
        "kalkulator_operasi_dasar()"
      ],
      "metadata": {
        "colab": {
          "base_uri": "https://localhost:8080/"
        },
        "id": "JkB4ebMbW4UE",
        "outputId": "1d5300e6-2328-4c28-b596-46481d703ac0"
      },
      "execution_count": null,
      "outputs": [
        {
          "output_type": "stream",
          "name": "stdout",
          "text": [
            "=== Kalkulator Operasi Dasar ===\n",
            "Masukkan angka pertama: 20\n",
            "Masukkan operator (+, -, *, /): +\n",
            "Masukkan angka kedua: 90\n",
            "Hasil: 110.0\n"
          ]
        }
      ]
    },
    {
      "cell_type": "code",
      "source": [
        "import math\n",
        "\n",
        "def kalkulator_pangkat_akar():\n",
        "    print(\"=== Kalkulator Perpangkatan dan Akar Kuadrat ===\")\n",
        "    print(\"1. Perpangkatan (x^y)\")\n",
        "    print(\"2. Akar Kuadrat (√x)\")\n",
        "    pilihan = input(\"Pilih menu (1/2): \")\n",
        "\n",
        "    if pilihan == \"1\":\n",
        "        x = float(input(\"Masukkan angka dasar (x): \"))\n",
        "        y = float(input(\"Masukkan pangkat (y): \"))\n",
        "        hasil = x ** y\n",
        "        print(f\"Hasil dari {x}^{y} = {hasil}\")\n",
        "\n",
        "    elif pilihan == \"2\":\n",
        "        x = float(input(\"Masukkan angka yang akan diakar: \"))\n",
        "        if x < 0:\n",
        "            print(\"Tidak dapat menghitung akar dari bilangan negatif dalam real.\")\n",
        "        else:\n",
        "            hasil = math.sqrt(x)\n",
        "            print(f\"Hasil akar kuadrat dari √{x} = {hasil}\")\n",
        "\n",
        "    else:\n",
        "        print(\"Pilihan tidak valid.\")\n",
        "\n",
        "# Jalankan program\n",
        "kalkulator_pangkat_akar()"
      ],
      "metadata": {
        "colab": {
          "base_uri": "https://localhost:8080/"
        },
        "id": "nBsoxOqEXFyh",
        "outputId": "6cf27cdd-e0bf-448c-dc6c-192dcf91ef53"
      },
      "execution_count": null,
      "outputs": [
        {
          "output_type": "stream",
          "name": "stdout",
          "text": [
            "=== Kalkulator Perpangkatan dan Akar Kuadrat ===\n",
            "1. Perpangkatan (x^y)\n",
            "2. Akar Kuadrat (√x)\n",
            "Pilih menu (1/2): 2\n",
            "Masukkan angka yang akan diakar: 20\n",
            "Hasil akar kuadrat dari √20.0 = 4.47213595499958\n"
          ]
        }
      ]
    },
    {
      "cell_type": "code",
      "source": [
        "def konversi_suhu():\n",
        "    print(\"=== Kalkulator Konversi Suhu ===\")\n",
        "    print(\"1. Celsius ke Fahrenheit dan Kelvin\")\n",
        "    print(\"2. Fahrenheit ke Celsius dan Kelvin\")\n",
        "    print(\"3. Kelvin ke Celsius dan Fahrenheit\")\n",
        "\n",
        "    pilihan = input(\"Pilih konversi (1/2/3): \")\n",
        "\n",
        "    if pilihan == \"1\":\n",
        "        c = float(input(\"Masukkan suhu dalam Celsius: \"))\n",
        "        f = (c * 9/5) + 32\n",
        "        k = c + 273.15\n",
        "        print(f\"\\nHasil Konversi:\")\n",
        "        print(f\"{c}°C = {f:.2f}°F = {k:.2f}K\")\n",
        "\n",
        "    elif pilihan == \"2\":\n",
        "        f = float(input(\"Masukkan suhu dalam Fahrenheit: \"))\n",
        "        c = (f - 32) * 5/9\n",
        "        k = c + 273.15\n",
        "        print(f\"\\nHasil Konversi:\")\n",
        "        print(f\"{f}°F = {c:.2f}°C = {k:.2f}K\")\n",
        "\n",
        "    elif pilihan == \"3\":\n",
        "        k = float(input(\"Masukkan suhu dalam Kelvin: \"))\n",
        "        c = k - 273.15\n",
        "        f = (c * 9/5) + 32\n",
        "        print(f\"\\nHasil Konversi:\")\n",
        "        print(f\"{k}K = {c:.2f}°C = {f:.2f}°F\")\n",
        "\n",
        "    else:\n",
        "        print(\"Pilihan tidak valid.\")\n",
        "\n",
        "# Jalankan program\n",
        "konversi_suhu()"
      ],
      "metadata": {
        "colab": {
          "base_uri": "https://localhost:8080/"
        },
        "id": "m9vZWFzCXS8Z",
        "outputId": "2356cb82-2353-41d0-c416-c5bd27bb2102"
      },
      "execution_count": null,
      "outputs": [
        {
          "output_type": "stream",
          "name": "stdout",
          "text": [
            "=== Kalkulator Konversi Suhu ===\n",
            "1. Celsius ke Fahrenheit dan Kelvin\n",
            "2. Fahrenheit ke Celsius dan Kelvin\n",
            "3. Kelvin ke Celsius dan Fahrenheit\n",
            "Pilih konversi (1/2/3): 1\n",
            "Masukkan suhu dalam Celsius: 90\n",
            "\n",
            "Hasil Konversi:\n",
            "90.0°C = 194.00°F = 363.15K\n"
          ]
        }
      ]
    },
    {
      "cell_type": "code",
      "source": [
        "# sistem akademik sederhana\n",
        "\n",
        "Data                   Tipe Data\n",
        "-----------------------------------\n",
        "NIM                   | String\n",
        "Nama Mahasiswa        | String\n",
        "Tanggal Lahir         | Date\n",
        "Email                 | String\n",
        "Nomor Telepon         | String\n",
        "Mata Kuliah           | String\n",
        "Nilai                 | Float/Int\n",
        "Semester              | Int\n",
        "Status Mahasiswa      | Enum\n",
        "\n",
        "# sistem Aplikasi E-commerce\n",
        "\n",
        "Data                   Tipe Data\n",
        "-----------------------------------\n",
        "ID Produk             | String / Int\n",
        "Nama Produk           | String\n",
        "Harga                 | Float\n",
        "Stok                  | Int\n",
        "Kategori              | String\n",
        "ID Pengguna           | String / Int\n",
        "Alamat Pengiriman     | String\n",
        "Tanggal Transaksi     | DateTime\n",
        "Status Pembayaran     | Enum\n",
        "\n",
        "# sistem Reservasi Hotel\n",
        "\n",
        "Data                   Tipe Data\n",
        "------------------------------------\n",
        "ID Reservasi          | String / Int\n",
        "Nama Tamu             | String\n",
        "Nomor Identitas       | String\n",
        "Tanggal Check-in/out  | Date\n",
        "Jenis & Nomor Kamar   | String / Int\n",
        "Jumlah Tamu           | Int\n",
        "Total Biaya           | Float\n",
        "Status Reservasi      | Enum"
      ],
      "metadata": {
        "id": "IPYlvUG5YQFY"
      },
      "execution_count": null,
      "outputs": []
    }
  ],
  "metadata": {
    "colab": {
      "provenance": []
    },
    "kernelspec": {
      "display_name": "Python 3",
      "name": "python3"
    },
    "language_info": {
      "name": "python"
    }
  },
  "nbformat": 4,
  "nbformat_minor": 0
}